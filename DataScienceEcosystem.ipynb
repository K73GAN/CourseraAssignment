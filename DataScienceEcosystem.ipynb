{
 "cells": [
  {
   "cell_type": "markdown",
   "id": "6c04e7ba-f087-4b7d-a3c1-f3631a569f0e",
   "metadata": {},
   "source": [
    "# Data Science Tools and Ecosystem"
   ]
  },
  {
   "cell_type": "markdown",
   "id": "29d31893-606d-4d0a-b558-f473410b2696",
   "metadata": {},
   "source": [
    "# Introduction\n",
    "\n",
    "Welcome to this Jupyter Notebook!  \n",
    "In this notebook, Data Science Tools and Ecosystem are summarized."
   ]
  },
  {
   "cell_type": "markdown",
   "id": "8106931e-130e-46eb-8846-cc99d8f5010e",
   "metadata": {},
   "source": [
    "**Objectives:**\n",
    "\n",
    "- List popular languages for Data Science  \n",
    "- List commonly used libraries in Data Science  \n",
    "- Create a table of Data Science tools\n",
    "- Create and execute arithmetic expressions in Python  \n",
    "- Convert data between units using code   "
   ]
  },
  {
   "cell_type": "markdown",
   "id": "754149bb-fec7-4881-859f-82ade16dce77",
   "metadata": {},
   "source": [
    "Some of the popular languages that Data Scientists use are:\n",
    "\n",
    "1. SQL\n",
    "2. PYTHON \n",
    "3. R"
   ]
  },
  {
   "cell_type": "markdown",
   "id": "5b2f368d-5878-4cbd-9340-76a7d6a6a7fb",
   "metadata": {},
   "source": [
    "Some of the commonly used libraries used by Data Scientists include:\n",
    "\n",
    "1. NumPy  \n",
    "2. Pandas  \n",
    "3. TensorFlow"
   ]
  },
  {
   "cell_type": "markdown",
   "id": "be7fe693-1bd2-474f-80ca-8ca02b54fbaa",
   "metadata": {},
   "source": [
    "| Data Science Tools|\n",
    "|-------------------|\n",
    "| RStudio           |\n",
    "| Apache Zeppelin   |\n",
    "| Jupyter Notebook  |"
   ]
  },
  {
   "cell_type": "markdown",
   "id": "a1b93a0a-873d-490b-b4db-6ca843528150",
   "metadata": {},
   "source": [
    "### Below are a few examples of evaluating arithmetic expressions in Python."
   ]
  },
  {
   "cell_type": "code",
   "execution_count": 1,
   "id": "624a5496-701a-4ea1-aac7-aea7963542e3",
   "metadata": {},
   "outputs": [
    {
     "data": {
      "text/plain": [
       "17"
      ]
     },
     "execution_count": 1,
     "metadata": {},
     "output_type": "execute_result"
    }
   ],
   "source": [
    "# This is a simple arithmetic expression to multiply and then add integers\n",
    "(3 * 4) + 5"
   ]
  },
  {
   "cell_type": "code",
   "execution_count": 2,
   "id": "517bb675-28fb-492d-ad71-8e91d0d11319",
   "metadata": {},
   "outputs": [
    {
     "data": {
      "text/plain": [
       "3.3333333333333335"
      ]
     },
     "execution_count": 2,
     "metadata": {},
     "output_type": "execute_result"
    }
   ],
   "source": [
    "# This will convert 200 minutes to hours by dividing by 60\n",
    "200 / 60"
   ]
  },
  {
   "cell_type": "markdown",
   "id": "11f119fa-14c6-4a0a-86bc-a5935d34b2f7",
   "metadata": {},
   "source": [
    "## Author\n",
    "Keegan Gonsalves"
   ]
  },
  {
   "cell_type": "code",
   "execution_count": null,
   "id": "edb50db9-17ce-463b-9e30-452eb754a9c0",
   "metadata": {},
   "outputs": [],
   "source": []
  }
 ],
 "metadata": {
  "kernelspec": {
   "display_name": "Python 3 (ipykernel)",
   "language": "python",
   "name": "python3"
  },
  "language_info": {
   "codemirror_mode": {
    "name": "ipython",
    "version": 3
   },
   "file_extension": ".py",
   "mimetype": "text/x-python",
   "name": "python",
   "nbconvert_exporter": "python",
   "pygments_lexer": "ipython3",
   "version": "3.12.8"
  }
 },
 "nbformat": 4,
 "nbformat_minor": 5
}
